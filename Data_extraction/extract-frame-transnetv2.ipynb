{
 "cells": [
  {
   "cell_type": "code",
   "execution_count": 1,
   "metadata": {
    "_cell_guid": "b1076dfc-b9ad-4769-8c92-a6c4dae69d19",
    "_uuid": "8f2839f25d086af736a60e9eeb907d3b93b6e0e5",
    "execution": {
     "iopub.execute_input": "2024-10-13T04:17:24.008387Z",
     "iopub.status.busy": "2024-10-13T04:17:24.007817Z",
     "iopub.status.idle": "2024-10-13T04:17:53.728851Z",
     "shell.execute_reply": "2024-10-13T04:17:53.727546Z",
     "shell.execute_reply.started": "2024-10-13T04:17:24.008346Z"
    },
    "papermill": {
     "duration": 29.468482,
     "end_time": "2024-09-18T16:34:52.373447",
     "exception": false,
     "start_time": "2024-09-18T16:34:22.904965",
     "status": "completed"
    },
    "tags": [],
    "trusted": true
   },
   "outputs": [],
   "source": [
    "%%capture\n",
    "\n",
    "!pip install ffmpeg-python pillow\n",
    "\n",
    "!git clone https://github.com/soCzech/TransNetV2.git\n",
    "\n",
    "%cd TransNetV2/inference\n",
    "\n",
    "!pip install --upgrade ffmpeg-python"
   ]
  },
  {
   "cell_type": "code",
   "execution_count": 2,
   "metadata": {
    "execution": {
     "iopub.execute_input": "2024-10-13T04:17:53.731429Z",
     "iopub.status.busy": "2024-10-13T04:17:53.731085Z",
     "iopub.status.idle": "2024-10-13T04:18:06.388716Z",
     "shell.execute_reply": "2024-10-13T04:18:06.387516Z",
     "shell.execute_reply.started": "2024-10-13T04:17:53.731394Z"
    },
    "papermill": {
     "duration": 12.827844,
     "end_time": "2024-09-18T16:35:05.205656",
     "exception": false,
     "start_time": "2024-09-18T16:34:52.377812",
     "status": "completed"
    },
    "tags": [],
    "trusted": true
   },
   "outputs": [
    {
     "name": "stdout",
     "output_type": "stream",
     "text": [
      "Requirement already satisfied: ffmpeg-python in /opt/conda/lib/python3.10/site-packages (0.2.0)\n",
      "Requirement already satisfied: future in /opt/conda/lib/python3.10/site-packages (from ffmpeg-python) (1.0.0)\n"
     ]
    }
   ],
   "source": [
    "!pip install ffmpeg-python"
   ]
  },
  {
   "cell_type": "code",
   "execution_count": 3,
   "metadata": {
    "execution": {
     "iopub.execute_input": "2024-10-13T04:18:06.390852Z",
     "iopub.status.busy": "2024-10-13T04:18:06.390439Z",
     "iopub.status.idle": "2024-10-13T04:18:22.061531Z",
     "shell.execute_reply": "2024-10-13T04:18:22.060517Z",
     "shell.execute_reply.started": "2024-10-13T04:18:06.390802Z"
    },
    "papermill": {
     "duration": 16.263398,
     "end_time": "2024-09-18T16:35:21.473277",
     "exception": false,
     "start_time": "2024-09-18T16:35:05.209879",
     "status": "completed"
    },
    "tags": [],
    "trusted": true
   },
   "outputs": [],
   "source": [
    "# Import module\n",
    "\n",
    "import os\n",
    "\n",
    "import cv2\n",
    "\n",
    "import json\n",
    "\n",
    "import glob\n",
    "\n",
    "import ffmpeg\n",
    "\n",
    "import torch\n",
    "\n",
    "import numpy as np\n",
    "\n",
    "from tqdm import tqdm\n",
    "\n",
    "from transnetv2 import TransNetV2\n",
    "\n",
    "from tqdm import notebook\n",
    "\n",
    "import pandas as pd"
   ]
  },
  {
   "cell_type": "code",
   "execution_count": 4,
   "metadata": {
    "execution": {
     "iopub.execute_input": "2024-10-13T04:18:22.064693Z",
     "iopub.status.busy": "2024-10-13T04:18:22.063808Z",
     "iopub.status.idle": "2024-10-13T04:18:28.315649Z",
     "shell.execute_reply": "2024-10-13T04:18:28.314862Z",
     "shell.execute_reply.started": "2024-10-13T04:18:22.064658Z"
    },
    "papermill": {
     "duration": 6.603823,
     "end_time": "2024-09-18T16:35:28.081616",
     "exception": false,
     "start_time": "2024-09-18T16:35:21.477793",
     "status": "completed"
    },
    "tags": [],
    "trusted": true
   },
   "outputs": [
    {
     "name": "stdout",
     "output_type": "stream",
     "text": [
      "[TransNetV2] Using weights from /kaggle/working/TransNetV2/inference/transnetv2-weights/.\n"
     ]
    }
   ],
   "source": [
    "model = TransNetV2()"
   ]
  },
  {
   "cell_type": "code",
   "execution_count": 25,
   "metadata": {
    "execution": {
     "iopub.execute_input": "2024-10-13T04:40:56.079654Z",
     "iopub.status.busy": "2024-10-13T04:40:56.078931Z",
     "iopub.status.idle": "2024-10-13T04:40:56.093141Z",
     "shell.execute_reply": "2024-10-13T04:40:56.092156Z",
     "shell.execute_reply.started": "2024-10-13T04:40:56.079611Z"
    },
    "papermill": {
     "duration": 0.019563,
     "end_time": "2024-09-18T16:35:28.105489",
     "exception": false,
     "start_time": "2024-09-18T16:35:28.085926",
     "status": "completed"
    },
    "tags": [],
    "trusted": true
   },
   "outputs": [],
   "source": [
    "def extract_keyframes(video_path, output_base_dir, map_keyframe_dir):\n",
    "\n",
    "    _, single_frame_predictions, _ = model.predict_video(video_path)\n",
    "\n",
    "    scenes = model.predictions_to_scenes(single_frame_predictions)\n",
    "    video_name = os.path.basename(video_path).split('.')[0]\n",
    "    output_dir = os.path.join(output_base_dir, video_name)\n",
    "    if not os.path.exists(output_dir):\n",
    "        os.makedirs(output_dir)\n",
    "    cap = cv2.VideoCapture(video_path)\n",
    "    frames = []\n",
    "    map_dir = f'/kaggle/input/map-keyframe-aic-2024/map-keyframes/{video_name}.csv'\n",
    "    d = pd.read_csv(map_dir)\n",
    "    k = d['frame_idx'].to_list()\n",
    "\n",
    "    for idx, scene in enumerate(scenes):\n",
    "        start_frame, end_frame = scene\n",
    "        flag = False\n",
    "        for x in k:\n",
    "            if x >= start_frame and x <= end_frame:\n",
    "                flag = True\n",
    "                break\n",
    "        if flag:\n",
    "            continue\n",
    "\n",
    "        middle_frame = int((start_frame + end_frame)/2)\n",
    "        frame_indices = [middle_frame]\n",
    "        frame_indices.sort()\n",
    "        for frame_index in frame_indices:\n",
    "            cap.set(cv2.CAP_PROP_POS_FRAMES, frame_index)\n",
    "            ret, frame = cap.read()\n",
    "            if ret:\n",
    "                frames.append((frame_index, frame))\n",
    "\n",
    "    frames_output_dir = output_dir\n",
    "    if not os.path.exists(frames_output_dir):\n",
    "        os.makedirs(frames_output_dir)\n",
    "\n",
    "    df = pd.DataFrame(columns=[\"n\", \"frame_idx\"])\n",
    "    i = 0\n",
    "    for (frame_index, frame) in frames:\n",
    "        i+= 1\n",
    "        output_path = os.path.join(frames_output_dir, f\"{i:03}.jpg\")\n",
    "        cv2.imwrite(output_path, frame)\n",
    "        new_row = pd.DataFrame({\"n\": [i], \"frame_idx\": [frame_index]})\n",
    "        df = pd.concat([df, new_row], ignore_index=True)\n",
    "\n",
    "    csv_file_path = os.path.join(map_keyframe_dir, f\"{video_name}.csv\")\n",
    "    df.to_csv(csv_file_path, index=False)\n",
    "    return video_name, output_dir"
   ]
  },
  {
   "cell_type": "code",
   "execution_count": 26,
   "metadata": {
    "execution": {
     "iopub.execute_input": "2024-10-13T04:40:57.413904Z",
     "iopub.status.busy": "2024-10-13T04:40:57.413148Z",
     "iopub.status.idle": "2024-10-13T04:40:57.431733Z",
     "shell.execute_reply": "2024-10-13T04:40:57.430991Z",
     "shell.execute_reply.started": "2024-10-13T04:40:57.413867Z"
    },
    "papermill": {
     "duration": 0.154673,
     "end_time": "2024-09-18T16:35:28.264192",
     "exception": false,
     "start_time": "2024-09-18T16:35:28.109519",
     "status": "completed"
    },
    "tags": [],
    "trusted": true
   },
   "outputs": [],
   "source": [
    "all_video_paths = dict()\n",
    "video_dir = \"/kaggle/input/video-v3-aic2024\"\n",
    "for part in sorted(os.listdir(video_dir)):\n",
    "    parts = part.split('_')\n",
    "    data_part = parts[-2] + \"_\" + parts[-1] #if 'L26' in parts[-2] else parts[-2]\n",
    "    all_video_paths[data_part] =  dict()\n",
    "\n",
    "for data_part in sorted(all_video_paths.keys()):\n",
    "    data_part_path = f'{video_dir}/Videos_{data_part}/video'\n",
    "    video_paths = sorted(os.listdir(data_part_path))\n",
    "    video_ids = [video_path.replace('.mp4', '').split('_')[-1] for video_path in video_paths]\n",
    "    for video_id, video_path in zip(video_ids, video_paths):\n",
    "        video_path_full = f'{data_part_path}/{video_path}'\n",
    "        all_video_paths[data_part][video_id] = video_path_full"
   ]
  },
  {
   "cell_type": "code",
   "execution_count": 27,
   "metadata": {
    "execution": {
     "iopub.execute_input": "2024-10-13T04:40:59.106198Z",
     "iopub.status.busy": "2024-10-13T04:40:59.105245Z",
     "iopub.status.idle": "2024-10-13T04:40:59.112161Z",
     "shell.execute_reply": "2024-10-13T04:40:59.111150Z",
     "shell.execute_reply.started": "2024-10-13T04:40:59.106154Z"
    },
    "papermill": {
     "duration": 0.013134,
     "end_time": "2024-09-18T16:35:28.281541",
     "exception": false,
     "start_time": "2024-09-18T16:35:28.268407",
     "status": "completed"
    },
    "tags": [],
    "trusted": true
   },
   "outputs": [
    {
     "data": {
      "text/plain": [
       "dict_keys(['L25_a', 'L26_a', 'L26_b', 'L26_c', 'L26_d', 'L26_e', 'L27_a', 'L28_a', 'L29_a', 'L30_a'])"
      ]
     },
     "execution_count": 27,
     "metadata": {},
     "output_type": "execute_result"
    }
   ],
   "source": [
    "all_video_paths.keys()"
   ]
  },
  {
   "cell_type": "code",
   "execution_count": 37,
   "metadata": {
    "execution": {
     "iopub.execute_input": "2024-10-13T05:36:58.197651Z",
     "iopub.status.busy": "2024-10-13T05:36:58.196833Z",
     "iopub.status.idle": "2024-10-13T05:37:35.107291Z",
     "shell.execute_reply": "2024-10-13T05:37:35.106347Z",
     "shell.execute_reply.started": "2024-10-13T05:36:58.197605Z"
    },
    "papermill": {
     "duration": 25007.67842,
     "end_time": "2024-09-18T23:32:15.963933",
     "exception": false,
     "start_time": "2024-09-18T16:35:28.285513",
     "status": "completed"
    },
    "tags": [],
    "trusted": true
   },
   "outputs": [
    {
     "name": "stderr",
     "output_type": "stream",
     "text": [
      "  0%|          | 0/2 [00:00<?, ?it/s]\n",
      "  0%|          | 0/1 [00:00<?, ?it/s]\u001b[A"
     ]
    },
    {
     "name": "stdout",
     "output_type": "stream",
     "text": [
      "[TransNetV2] Extracting frames from /kaggle/input/video-v3-aic2024/Videos_L26_a/video/L26_V002.mp4\n",
      "[TransNetV2] Processing video frames 7447/7447\n"
     ]
    },
    {
     "name": "stderr",
     "output_type": "stream",
     "text": [
      "\n",
      "100%|██████████| 1/1 [00:17<00:00, 17.26s/it]\u001b[A\n",
      " 50%|█████     | 1/2 [00:17<00:17, 17.26s/it]\n",
      "  0%|          | 0/1 [00:00<?, ?it/s]\u001b[A"
     ]
    },
    {
     "name": "stdout",
     "output_type": "stream",
     "text": [
      "[TransNetV2] Extracting frames from /kaggle/input/video-v3-aic2024/Videos_L26_b/video/L26_V100.mp4\n",
      "[TransNetV2] Processing video frames 8135/8135\n"
     ]
    },
    {
     "name": "stderr",
     "output_type": "stream",
     "text": [
      "\n",
      "100%|██████████| 1/1 [00:19<00:00, 19.63s/it]\u001b[A\n",
      "100%|██████████| 2/2 [00:36<00:00, 18.45s/it]\n"
     ]
    }
   ],
   "source": [
    "save_dir = f'/kaggle/working/Keyframes-extra/'\n",
    "map_keyframe_dir = '/kaggle/working/map-keyframes-extra'\n",
    "if not os.path.exists(save_dir):\n",
    "        os.mkdir(save_dir)\n",
    "\n",
    "if not os.path.exists(map_keyframe_dir):\n",
    "        os.mkdir(map_keyframe_dir)\n",
    "\n",
    "for key in tqdm(all_video_paths.keys()):\n",
    "    video_paths_dict = all_video_paths[key]\n",
    "    video_ids = sorted(video_paths_dict.keys())\n",
    "    for video_id in tqdm(video_ids):\n",
    "        video_path = video_paths_dict[video_id]\n",
    "        save_path = f'{save_dir}/Keyframes_{key}/keyframes'\n",
    "        extract_keyframes(video_path, save_path, map_keyframe_dir)"
   ]
  },
  {
   "cell_type": "code",
   "execution_count": 38,
   "metadata": {
    "execution": {
     "iopub.execute_input": "2024-10-13T05:37:48.795527Z",
     "iopub.status.busy": "2024-10-13T05:37:48.794797Z",
     "iopub.status.idle": "2024-10-13T05:37:49.837445Z",
     "shell.execute_reply": "2024-10-13T05:37:49.836397Z",
     "shell.execute_reply.started": "2024-10-13T05:37:48.795489Z"
    },
    "papermill": {
     "duration": 3.82948,
     "end_time": "2024-09-18T23:32:22.557341",
     "exception": false,
     "start_time": "2024-09-18T23:32:18.727861",
     "status": "completed"
    },
    "tags": [],
    "trusted": true
   },
   "outputs": [
    {
     "name": "stderr",
     "output_type": "stream",
     "text": [
      "/opt/conda/lib/python3.10/pty.py:89: RuntimeWarning: os.fork() was called. os.fork() is incompatible with multithreaded code, and JAX is multithreaded, so this will likely lead to a deadlock.\n",
      "  pid, fd = os.forkpty()\n"
     ]
    }
   ],
   "source": [
    "!rm -rf /kaggle/working/TransNetV2"
   ]
  },
  {
   "cell_type": "code",
   "execution_count": 10,
   "metadata": {
    "execution": {
     "iopub.execute_input": "2024-09-18T23:32:28.108048Z",
     "iopub.status.busy": "2024-09-18T23:32:28.107588Z",
     "iopub.status.idle": "2024-09-18T23:32:28.113469Z",
     "shell.execute_reply": "2024-09-18T23:32:28.112434Z"
    },
    "papermill": {
     "duration": 2.759372,
     "end_time": "2024-09-18T23:32:28.115500",
     "exception": false,
     "start_time": "2024-09-18T23:32:25.356128",
     "status": "completed"
    },
    "tags": []
   },
   "outputs": [
    {
     "name": "stdout",
     "output_type": "stream",
     "text": [
      "Completed\n"
     ]
    }
   ],
   "source": [
    "print('Completed')"
   ]
  }
 ],
 "metadata": {
  "kaggle": {
   "accelerator": "gpu",
   "dataSources": [
    {
     "datasetId": 5728092,
     "sourceId": 9428937,
     "sourceType": "datasetVersion"
    },
    {
     "datasetId": 5641269,
     "sourceId": 9439304,
     "sourceType": "datasetVersion"
    },
    {
     "datasetId": 5864731,
     "sourceId": 9611284,
     "sourceType": "datasetVersion"
    },
    {
     "datasetId": 5865474,
     "sourceId": 9612369,
     "sourceType": "datasetVersion"
    }
   ],
   "dockerImageVersionId": 30762,
   "isGpuEnabled": true,
   "isInternetEnabled": true,
   "language": "python",
   "sourceType": "notebook"
  },
  "kernelspec": {
   "display_name": "venv",
   "language": "python",
   "name": "python3"
  },
  "language_info": {
   "codemirror_mode": {
    "name": "ipython",
    "version": 3
   },
   "file_extension": ".py",
   "mimetype": "text/x-python",
   "name": "python",
   "nbconvert_exporter": "python",
   "pygments_lexer": "ipython3",
   "version": "3.12.0"
  },
  "papermill": {
   "default_parameters": {},
   "duration": 25098.919522,
   "end_time": "2024-09-18T23:32:39.124337",
   "environment_variables": {},
   "exception": null,
   "input_path": "__notebook__.ipynb",
   "output_path": "__notebook__.ipynb",
   "parameters": {},
   "start_time": "2024-09-18T16:34:20.204815",
   "version": "2.6.0"
  }
 },
 "nbformat": 4,
 "nbformat_minor": 5
}
