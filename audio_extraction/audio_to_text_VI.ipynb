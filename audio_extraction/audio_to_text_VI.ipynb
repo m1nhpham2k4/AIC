{
 "cells": [
  {
   "cell_type": "code",
   "execution_count": 4,
   "id": "5e3115e6",
   "metadata": {},
   "outputs": [
    {
     "name": "stdout",
     "output_type": "stream",
     "text": [
      "Requirement already satisfied: SpeechRecognition in d:\\aic\\aic\\venv\\lib\\site-packages (3.14.3)\n",
      "Requirement already satisfied: typing-extensions in d:\\aic\\aic\\venv\\lib\\site-packages (from SpeechRecognition) (4.14.1)\n"
     ]
    },
    {
     "name": "stderr",
     "output_type": "stream",
     "text": [
      "\n",
      "[notice] A new release of pip is available: 24.3.1 -> 25.2\n",
      "[notice] To update, run: python.exe -m pip install --upgrade pip\n"
     ]
    },
    {
     "name": "stdout",
     "output_type": "stream",
     "text": [
      "Collecting pydub\n",
      "  Downloading pydub-0.25.1-py2.py3-none-any.whl.metadata (1.4 kB)\n",
      "Downloading pydub-0.25.1-py2.py3-none-any.whl (32 kB)\n",
      "Installing collected packages: pydub\n",
      "Successfully installed pydub-0.25.1\n"
     ]
    },
    {
     "name": "stderr",
     "output_type": "stream",
     "text": [
      "\n",
      "[notice] A new release of pip is available: 24.3.1 -> 25.2\n",
      "[notice] To update, run: python.exe -m pip install --upgrade pip\n"
     ]
    }
   ],
   "source": [
    "!pip install SpeechRecognition\n",
    "!pip install pydub\n"
   ]
  },
  {
   "cell_type": "code",
   "execution_count": 1,
   "id": "9eb57c1a",
   "metadata": {},
   "outputs": [],
   "source": [
    "import os\n",
    "import speech_recognition as sr\n",
    "from pydub import AudioSegment\n",
    "from pydub.silence import split_on_silence\n",
    "\n",
    "# Load audio\n",
    "sound = AudioSegment.from_wav(\"D:\\\\AIC\\\\AIC\\\\Data_extraction\\\\audio_test\\\\L01_V001.wav\")\n",
    "\n",
    "# Tách audio theo khoảng lặng (im lặng > 700ms và âm lượng dưới -40dB)\n",
    "audio_chunks = split_on_silence(sound, \n",
    "                                 min_silence_len=500, \n",
    "                                 silence_thresh=sound.dBFS - 14,\n",
    "                                 keep_silence=300)"
   ]
  },
  {
   "cell_type": "code",
   "execution_count": 2,
   "id": "dd3c8a36",
   "metadata": {},
   "outputs": [],
   "source": [
    "# Khởi tạo recognizer\n",
    "r = sr.Recognizer()\n",
    "\n",
    "# Lưu và nhận diện từng đoạn\n",
    "result = []"
   ]
  },
  {
   "cell_type": "code",
   "execution_count": 7,
   "id": "35de1645",
   "metadata": {},
   "outputs": [],
   "source": [
    "for i, chunk in enumerate(audio_chunks):\n",
    "    chunk_filename = f\"chunk{i}.wav\"\n",
    "    chunk.export(chunk_filename, format=\"wav\")\n",
    "    \n",
    "    with sr.AudioFile(chunk_filename) as source:\n",
    "        audio = r.record(source)\n",
    "        try:\n",
    "            text = r.recognize_google(audio, language='vi-VN')\n",
    "            result.append(text)\n",
    "        except sr.UnknownValueError:\n",
    "            continue\n",
    "        except sr.RequestError:\n",
    "            result.append(\"[Lỗi API]\")\n",
    "    \n",
    "    os.remove(chunk_filename)  # xóa file tạm sau khi xử lý\n",
    "\n",
    "# Ghép kết quả lại, thêm dấu phẩy"
   ]
  },
  {
   "cell_type": "code",
   "execution_count": 10,
   "id": "8d422119",
   "metadata": {},
   "outputs": [],
   "source": [
    "final_text = ', '.join(result)\n",
    "\n",
    "\n"
   ]
  },
  {
   "cell_type": "code",
   "execution_count": 11,
   "id": "f5054f96",
   "metadata": {},
   "outputs": [],
   "source": [
    "with open('D:\\\\AIC\\\\AIC\\\\Data_extraction\\\\text_vi\\\\L001_V001.txt', 'w', encoding='utf-8') as f:\n",
    "    f.write(final_text)"
   ]
  }
 ],
 "metadata": {
  "kernelspec": {
   "display_name": "venv (3.12.9)",
   "language": "python",
   "name": "python3"
  },
  "language_info": {
   "codemirror_mode": {
    "name": "ipython",
    "version": 3
   },
   "file_extension": ".py",
   "mimetype": "text/x-python",
   "name": "python",
   "nbconvert_exporter": "python",
   "pygments_lexer": "ipython3",
   "version": "3.12.9"
  }
 },
 "nbformat": 4,
 "nbformat_minor": 5
}
