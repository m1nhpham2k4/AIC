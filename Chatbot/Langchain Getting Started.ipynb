{
 "cells": [
  {
   "cell_type": "code",
   "execution_count": 1,
   "id": "4c9fb4ac",
   "metadata": {},
   "outputs": [
    {
     "data": {
      "text/plain": [
       "False"
      ]
     },
     "execution_count": 1,
     "metadata": {},
     "output_type": "execute_result"
    }
   ],
   "source": [
    "from dotenv import load_dotenv\n",
    "import os\n",
    "\n",
    "load_dotenv('./env')"
   ]
  },
  {
   "cell_type": "code",
   "execution_count": 2,
   "id": "461e7f98",
   "metadata": {},
   "outputs": [
    {
     "data": {
      "text/plain": [
       "'https://api.smith.langchain.com'"
      ]
     },
     "execution_count": 2,
     "metadata": {},
     "output_type": "execute_result"
    }
   ],
   "source": [
    "os.environ['LANGCHAIN_ENDPOINT']"
   ]
  },
  {
   "cell_type": "code",
   "execution_count": null,
   "id": "3de7e035",
   "metadata": {},
   "outputs": [],
   "source": [
    "base_url = 'http://localhost:11434'\n",
    "model = 'llama3.2:1b'"
   ]
  },
  {
   "cell_type": "code",
   "execution_count": 7,
   "id": "007e6f1f",
   "metadata": {},
   "outputs": [],
   "source": [
    "from langchain_ollama import ChatOllama\n",
    "\n",
    "llm = ChatOllama(\n",
    "    base_url=base_url,\n",
    "    model=model,\n",
    "    temperature= 0.8,\n",
    "    num_predict= 256\n",
    ")"
   ]
  },
  {
   "cell_type": "code",
   "execution_count": 12,
   "id": "be3ad1e7",
   "metadata": {},
   "outputs": [
    {
     "name": "stdout",
     "output_type": "stream",
     "text": [
      "Here's what I know about the Earth:\n",
      "\n",
      "**Point 1: The Warming Process**\n",
      "The Earth is getting warmer due to human activities like burning fossil fuels and deforestation, which release greenhouse gases into the air.\n",
      "\n",
      "**Point 2: Water Sources**\n",
      "There are two main sources of water for our planet: oceans (about 71%) and ice caps (about 28%). We need to conserve and protect these resources.\n",
      "\n",
      "**Point 3: The Atmosphere**\n",
      "The atmosphere protects us from harm, regulates temperature, and allows life to thrive. But we can damage it by polluting air with pollutants like CO2 and other greenhouse gases.\n"
     ]
    }
   ],
   "source": [
    "from langchain_core.messages import SystemMessage, HumanMessage\n",
    "\n",
    "question = HumanMessage('Tell me about the earth in 3 poins')\n",
    "system = SystemMessage('You are elementary teacher. You anwser in short sentences.')\n",
    "\n",
    "messages = [system, question]\n",
    "response = llm.invoke(messages)\n",
    "print(response.content)"
   ]
  },
  {
   "cell_type": "code",
   "execution_count": 13,
   "id": "f33aa2f9",
   "metadata": {},
   "outputs": [
    {
     "name": "stdout",
     "output_type": "stream",
     "text": [
      "Here's an overview of the Earth from a scientific perspective:\n",
      "\n",
      "**1. Composition**: The Earth is primarily composed of rock and mineral particles, with about 71% being silicate minerals, 27% being iron and magnesium oxides, and 2% being other minerals.\n",
      "\n",
      "**2. Structure**: The Earth has a solid inner core with a radius of approximately 1,220 kilometers, surrounded by a mantle that extends up to 3,700 kilometers in depth. The crust is the outermost layer, ranging from about 5-70 kilometers in thickness.\n",
      "\n",
      "**3. Climate and Environment**: The Earth's atmosphere traps a significant amount of heat from the Sun, maintaining a moderate climate with varying temperatures across different regions. The planet's oceans cover approximately 71% of its surface, influencing ocean currents and global weather patterns through processes like the hydrologic cycle and ocean-atmosphere interactions.\n"
     ]
    }
   ],
   "source": [
    "system = SystemMessage('You are phd teacher. You anwser in short sentences.')\n",
    "\n",
    "messages = [system, question]\n",
    "response = llm.invoke(messages)\n",
    "print(response.content)"
   ]
  },
  {
   "cell_type": "code",
   "execution_count": 14,
   "id": "3ac1607d",
   "metadata": {},
   "outputs": [],
   "source": [
    "from langchain_core.prompts import (\n",
    "    SystemMessagePromptTemplate,\n",
    "    HumanMessagePromptTemplate,\n",
    "    PromptTemplate,\n",
    "    ChatPromptTemplate\n",
    ")"
   ]
  },
  {
   "cell_type": "code",
   "execution_count": null,
   "id": "77bff81c",
   "metadata": {},
   "outputs": [
    {
     "data": {
      "text/plain": [
       "HumanMessage(content='tell me about sun in 5 points', additional_kwargs={}, response_metadata={})"
      ]
     },
     "execution_count": 22,
     "metadata": {},
     "output_type": "execute_result"
    }
   ],
   "source": [
    "system = SystemMessagePromptTemplate.from_template(\"You are {school} teacher. You answer in short sentences.\")\n",
    "question = HumanMessagePromptTemplate.from_template(\"tell me about {topics} in {points} points\")"
   ]
  },
  {
   "cell_type": "code",
   "execution_count": 25,
   "id": "02349f75",
   "metadata": {},
   "outputs": [
    {
     "data": {
      "text/plain": [
       "SystemMessage(content='You are elementary teacher. You answer in short sentences.', additional_kwargs={}, response_metadata={})"
      ]
     },
     "execution_count": 25,
     "metadata": {},
     "output_type": "execute_result"
    }
   ],
   "source": [
    "system.format(school='elementary')"
   ]
  },
  {
   "cell_type": "code",
   "execution_count": 26,
   "id": "7b971779",
   "metadata": {},
   "outputs": [
    {
     "data": {
      "text/plain": [
       "SystemMessagePromptTemplate(prompt=PromptTemplate(input_variables=['school'], input_types={}, partial_variables={}, template='You are {school} teacher. You answer in short sentences.'), additional_kwargs={})"
      ]
     },
     "execution_count": 26,
     "metadata": {},
     "output_type": "execute_result"
    }
   ],
   "source": [
    "system"
   ]
  },
  {
   "cell_type": "code",
   "execution_count": 27,
   "id": "40b987be",
   "metadata": {},
   "outputs": [
    {
     "data": {
      "text/plain": [
       "HumanMessage(content='tell me about sun in 5 points', additional_kwargs={}, response_metadata={})"
      ]
     },
     "execution_count": 27,
     "metadata": {},
     "output_type": "execute_result"
    }
   ],
   "source": [
    "question.format(topics='sun',points=5)"
   ]
  },
  {
   "cell_type": "code",
   "execution_count": 28,
   "id": "f80922fa",
   "metadata": {},
   "outputs": [
    {
     "data": {
      "text/plain": [
       "HumanMessagePromptTemplate(prompt=PromptTemplate(input_variables=['points', 'topics'], input_types={}, partial_variables={}, template='tell me about {topics} in {points} points'), additional_kwargs={})"
      ]
     },
     "execution_count": 28,
     "metadata": {},
     "output_type": "execute_result"
    }
   ],
   "source": [
    "question"
   ]
  },
  {
   "cell_type": "code",
   "execution_count": 29,
   "id": "e56cf040",
   "metadata": {},
   "outputs": [],
   "source": [
    "messages = [system, question]\n",
    "\n",
    "template = ChatPromptTemplate(messages)"
   ]
  },
  {
   "cell_type": "code",
   "execution_count": 35,
   "id": "5054287a",
   "metadata": {},
   "outputs": [
    {
     "name": "stdout",
     "output_type": "stream",
     "text": [
      "Here are three key points about the Sun:\n",
      "\n",
      "1. **Size and Mass**: The Sun is a massive ball of gas, with a diameter of approximately 1.4 million kilometers (870,000 miles) and a mass of about 330,000 times that of Earth.\n",
      "\n",
      "2. **Energy Output**: The Sun generates energy through nuclear reactions in its core, releasing an enormous amount of light and heat into space, which is what makes life on Earth possible.\n",
      "\n",
      "3. **Age and Life Cycle**: The Sun is estimated to be around 4.6 billion years old and has already burned through about half of its hydrogen fuel since its formation, making it a relatively young star in the grand scheme of the universe.\n"
     ]
    }
   ],
   "source": [
    "question = template.invoke({'school':'ph.d','topics':'sun','points':3})\n",
    "response = llm.invoke(question)\n",
    "print(response.content)"
   ]
  },
  {
   "cell_type": "code",
   "execution_count": 1,
   "id": "dc63c4e3",
   "metadata": {},
   "outputs": [
    {
     "data": {
      "text/plain": [
       "ChatOllama(model='llama3.2:1b', base_url='http://localhost:11434')"
      ]
     },
     "execution_count": 1,
     "metadata": {},
     "output_type": "execute_result"
    }
   ],
   "source": [
    "from langchain_ollama import ChatOllama\n",
    "from langchain_core.prompts import (\n",
    "    SystemMessagePromptTemplate,\n",
    "    HumanMessagePromptTemplate,\n",
    "    ChatPromptTemplate\n",
    ")\n",
    "\n",
    "model = 'llama3.2:1b'\n",
    "base_url = 'http://localhost:11434'\n",
    "llm = ChatOllama(model=model, base_url=base_url)\n",
    "llm"
   ]
  },
  {
   "cell_type": "code",
   "execution_count": 3,
   "id": "2e265f35",
   "metadata": {},
   "outputs": [
    {
     "name": "stdout",
     "output_type": "stream",
     "text": [
      "1. Sun - Center of our Solar System\n",
      "2. Mercury - Closest Planet to Sun\n",
      "3. Venus - Hottest Planet, Thick Atmosphere\n",
      "4. Earth - Where We Live, Air and Water Balance\n",
      "5. Mars - Rocky World, Potential for Life\n"
     ]
    }
   ],
   "source": [
    "system = SystemMessagePromptTemplate.from_template('You are {school} teacher. You anwser in short sentences.')\n",
    "\n",
    "question = HumanMessagePromptTemplate.from_template('tell me about the {topics} in {points} points')\n",
    "\n",
    "messages = [system, question]\n",
    "\n",
    "template = ChatPromptTemplate(messages)\n",
    "\n",
    "chain = template | llm\n",
    "\n",
    "response = chain.invoke({'school':'primary','topics':'solar system', 'points':5})\n",
    "\n",
    "print(response.content)"
   ]
  },
  {
   "cell_type": "code",
   "execution_count": 4,
   "id": "cdc5c14b",
   "metadata": {},
   "outputs": [
    {
     "name": "stdout",
     "output_type": "stream",
     "text": [
      "Here's a brief overview of the solar system:\n",
      "\n",
      "1. **The Sun**: The center of our solar system, the star that gives us light and heat.\n",
      "2. **Planets**: Eight planets ( Mercury to Neptune) orbit around the Sun: Mercury, Venus, Earth, Mars, Jupiter, Saturn, Uranus, and Neptune.\n",
      "3. **Dwarf Planets**: Five objects in the outer reaches of the solar system, like Pluto and Eris, that are smaller than planets but still massive enough to have their own gravity.\n",
      "4. **Moons**: Many planets have moons, like the Moon orbiting Earth, which were formed from debris left over after a massive collision.\n",
      "5. **Asteroids and Comets**: Small rocky objects in the outer solar system and icy bodies that occasionally release gas or dust into space, which can be seen as comets or asteroids.\n"
     ]
    }
   ],
   "source": [
    "response = chain.invoke({'school':'ph.d','topics':'solar system', 'points':5})\n",
    "\n",
    "print(response.content)"
   ]
  },
  {
   "cell_type": "code",
   "execution_count": 5,
   "id": "82a27e66",
   "metadata": {},
   "outputs": [
    {
     "name": "stdout",
     "output_type": "stream",
     "text": [
      "Here's a brief overview of the solar system:\n",
      "\n",
      "1. **The Sun is at Center**: The Sun is the star that makes up the center of our solar system, providing light and heat to all planets.\n",
      "\n",
      "2. **Planets are in Orbit**: All planets orbit around the Sun due to its gravity, which keeps them in their designated paths.\n",
      "\n",
      "3. **Gas Giant Size**: Jupiter and Saturn are gas giants with massive atmospheres and storms that can be thousands of kilometers wide.\n",
      "\n",
      "4. **Rocky Planets Closest to Sun**: Earth is a rocky planet close to the Sun, with conditions suitable for life as we know it.\n",
      "\n",
      "5. **Planetary Differences**: Each planet has unique features such as moons, rings, and surface compositions, showcasing the diversity within our solar system.\n"
     ]
    }
   ],
   "source": [
    "from langchain_core.output_parsers import StrOutputParser\n",
    "chain = template | llm | StrOutputParser()\n",
    "response = chain.invoke({'school':'ph.d','topics':'solar system', 'points':5})\n",
    "print(response)"
   ]
  },
  {
   "cell_type": "code",
   "execution_count": 9,
   "id": "0817a813",
   "metadata": {},
   "outputs": [
    {
     "name": "stdout",
     "output_type": "stream",
     "text": [
      "The difficulty level of understanding this text is relatively low, as it provides a concise and straightforward overview of the solar system's basic structure and characteristics.\n"
     ]
    }
   ],
   "source": [
    "analysis_prompt = ChatPromptTemplate.from_template('''analyze the following text: {response}\n",
    "                                                   You need tell me that how difficult it is to understand.\n",
    "                                                   Answer in one sentence only.\n",
    "                                                   ''')\n",
    "\n",
    "fact_check_chain = analysis_prompt | llm | StrOutputParser()\n",
    "output = fact_check_chain.invoke({'response':response})\n",
    "print(output)"
   ]
  },
  {
   "cell_type": "code",
   "execution_count": 11,
   "id": "3e2bf3f9",
   "metadata": {},
   "outputs": [
    {
     "name": "stdout",
     "output_type": "stream",
     "text": [
      "Understanding the solar system's structure and age can be challenging due to its vast scale, complex relationships between celestial bodies, and numerous scientific concepts involved.\n"
     ]
    }
   ],
   "source": [
    "composed_chain = {'response':chain} | analysis_prompt | llm | StrOutputParser()\n",
    "\n",
    "output = composed_chain.invoke({'school':'ph.d','topics':'solar system','points':5})\n",
    "print(output)"
   ]
  },
  {
   "cell_type": "code",
   "execution_count": 13,
   "id": "0eaaeac3",
   "metadata": {},
   "outputs": [
    {
     "name": "stdout",
     "output_type": "stream",
     "text": [
      "Here's a brief overview of the solar system in two points:\n",
      "\n",
      "• **Sun at Center**: The sun is the star that makes up 99% of our solar system, providing light and heat to all the planets.\n",
      "\n",
      "• **Planets Orbit Around Sun**: Eight planets orbit around the sun: Mercury, Mars, Venus, Earth, Neptune, Uranus, Saturn, and Jupiter. They also have several smaller celestial bodies like moons, asteroids, and comets that are left over from their formation.\n"
     ]
    }
   ],
   "source": [
    "system = SystemMessagePromptTemplate.from_template('You are {school} teacher. You anwser in short sentences.')\n",
    "\n",
    "question = HumanMessagePromptTemplate.from_template('tell me about the {topics} in {points} points')\n",
    "\n",
    "messages = [system, question]\n",
    "\n",
    "template = ChatPromptTemplate(messages)\n",
    "\n",
    "fact_chain = template | llm | StrOutputParser()\n",
    "\n",
    "output = fact_chain.invoke({'school':'ph.d','topics':'solar system','points':2})\n",
    "print(output)"
   ]
  },
  {
   "cell_type": "code",
   "execution_count": 15,
   "id": "9088838c",
   "metadata": {},
   "outputs": [
    {
     "name": "stdout",
     "output_type": "stream",
     "text": [
      "Here's a brief poem on the solar system:\n",
      "\n",
      "Earth is our home, a planet so fine,\n",
      "Orbiting sun, a dance divine.\n"
     ]
    }
   ],
   "source": [
    "system = SystemMessagePromptTemplate.from_template('You are {school} teacher. You anwser in short sentences.')\n",
    "\n",
    "question = HumanMessagePromptTemplate.from_template('write a poem on {topics} in {sentences} lines')\n",
    "\n",
    "messages = [system, question]\n",
    "\n",
    "template = ChatPromptTemplate(messages)\n",
    "\n",
    "poem_chain = template | llm | StrOutputParser()\n",
    "\n",
    "output = poem_chain.invoke({'school':'ph.d','topics':'solar system','sentences':2})\n",
    "print(output)"
   ]
  },
  {
   "cell_type": "code",
   "execution_count": 16,
   "id": "2bb2cd32",
   "metadata": {},
   "outputs": [],
   "source": [
    "from langchain_core.runnables import RunnableParallel\n",
    "chain = RunnableParallel(fact=fact_chain,poem=poem_chain)"
   ]
  },
  {
   "cell_type": "code",
   "execution_count": 19,
   "id": "7431a38c",
   "metadata": {},
   "outputs": [
    {
     "name": "stdout",
     "output_type": "stream",
     "text": [
      "{'fact': '• The Sun is at the center of our solar system.\\n• Mercury and Venus are closest to the Sun, followed by Earth, then Mars, Jupiter, Saturn, Uranus, and Neptune.', 'poem': 'The sun is at the center, \\nPlanets orbit around it, spinning fast.'}\n"
     ]
    }
   ],
   "source": [
    "output = chain.invoke({'school':'primary','topics':'solar system','points':2, 'sentences':2})\n",
    "print(output)"
   ]
  },
  {
   "cell_type": "code",
   "execution_count": 32,
   "id": "374b0482",
   "metadata": {},
   "outputs": [
    {
     "data": {
      "text/plain": [
       "'Positive'"
      ]
     },
     "execution_count": 32,
     "metadata": {},
     "output_type": "execute_result"
    }
   ],
   "source": [
    "prompt = \"\"\"Given the user review below, classify it as either being about `Positive` or `Negative`.\n",
    "            Do not respond with more than one word.\n",
    "            \n",
    "            Review: {review}\n",
    "            Classification:\"\"\"\n",
    "\n",
    "template = ChatPromptTemplate.from_template(prompt)\n",
    "chain = template | llm | StrOutputParser()\n",
    "review = \"Thank you so much for providing such a great plateform for learning. I am really happy with the service.\"\n",
    "# review = \"I am not happy with the service. It is not good.\"\n",
    "chain.invoke({'review':review})"
   ]
  },
  {
   "cell_type": "code",
   "execution_count": 33,
   "id": "e379de95",
   "metadata": {},
   "outputs": [],
   "source": [
    "positive_prompt = \"\"\"\n",
    "                You are expert in writing reply for positive reviews.\n",
    "                You need to encourage the user to share their experience on social media.\n",
    "                Review: {review}\n",
    "                Anwser:\"\"\"\n",
    "positive_template = ChatPromptTemplate.from_template(positive_prompt)\n",
    "positive_chain = positive_template | llm | StrOutputParser()"
   ]
  },
  {
   "cell_type": "code",
   "execution_count": 34,
   "id": "133510ce",
   "metadata": {},
   "outputs": [],
   "source": [
    "negative_prompt = \"\"\"\n",
    "                You are expert in writing reply for negative reviews.\n",
    "                You need first to apologize for the inconvenience caused to the user.\n",
    "                You need to encourage the user to share their concern on following Email: 'chatbotllm@gmail.com'.\n",
    "                Review: {review}\n",
    "                Anwser:\"\"\"\n",
    "negative_template = ChatPromptTemplate.from_template(negative_prompt)\n",
    "negative_chain = negative_template | llm | StrOutputParser()"
   ]
  },
  {
   "cell_type": "code",
   "execution_count": 35,
   "id": "dbbf901f",
   "metadata": {},
   "outputs": [],
   "source": [
    "def rout(info):\n",
    "    if 'positive' in info['sentiment'].lower():\n",
    "        return positive_chain\n",
    "    else:\n",
    "        return negative_chain"
   ]
  },
  {
   "cell_type": "code",
   "execution_count": 36,
   "id": "9d5fb426",
   "metadata": {},
   "outputs": [],
   "source": [
    "from langchain_core.runnables import RunnableLambda\n",
    "\n",
    "full_chain = {'sentiment':chain, 'review':lambda x: x['review']} | RunnableLambda(rout)"
   ]
  },
  {
   "cell_type": "code",
   "execution_count": 38,
   "id": "20aca5e0",
   "metadata": {},
   "outputs": [
    {
     "name": "stdout",
     "output_type": "stream",
     "text": [
      "Here's a possible response:\n",
      "\n",
      "\"Dear [User],\n",
      "\n",
      "I want to start by apologizing for any inconvenience we may have caused you during your recent interaction with our team. We strive to provide the best possible service, and it's clear that we fell short of meeting your expectations in this instance.\n",
      "\n",
      "We take all concerns seriously and would like to understand more about what specifically didn't meet your satisfaction. Your feedback is invaluable to us, as it will help us to identify areas for improvement and make necessary adjustments.\n",
      "\n",
      "If you're willing, could you please share more details about your experience with us? We'd love to learn from our mistakes and use this opportunity to provide a better outcome in the future.\n",
      "\n",
      "Additionally, if there's any way we can make things right, whether it's through a refund or some other form of compensation, please don't hesitate to reach out to us directly. Our email address is [chatbotllm@gmail.com](mailto:chatbotllm@gmail.com), and we're always here to listen and help in any way we can.\n",
      "\n",
      "Thank you for taking the time to share your concerns with us. We appreciate your feedback and look forward to the opportunity to serve you better in the future.\n",
      "\n",
      "Best regards,\n",
      "[Your Name]\"\n"
     ]
    }
   ],
   "source": [
    "# review = \"Thank you so much for providing such a great plateform for learning. I am really happy with the service.\"\n",
    "review = \"I am not happy with the service. It is not good.\"\n",
    "output = full_chain.invoke({'review':review})\n",
    "print(output)"
   ]
  },
  {
   "cell_type": "code",
   "execution_count": null,
   "id": "a1d28f11",
   "metadata": {},
   "outputs": [],
   "source": []
  }
 ],
 "metadata": {
  "kernelspec": {
   "display_name": "venv",
   "language": "python",
   "name": "python3"
  },
  "language_info": {
   "codemirror_mode": {
    "name": "ipython",
    "version": 3
   },
   "file_extension": ".py",
   "mimetype": "text/x-python",
   "name": "python",
   "nbconvert_exporter": "python",
   "pygments_lexer": "ipython3",
   "version": "3.11.1"
  }
 },
 "nbformat": 4,
 "nbformat_minor": 5
}
